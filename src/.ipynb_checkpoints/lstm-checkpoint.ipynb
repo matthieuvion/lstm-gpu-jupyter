{
 "cells": [
  {
   "cell_type": "markdown",
   "id": "7ce4922b-b7e6-4084-adee-96310edc474c",
   "metadata": {
    "tags": []
   },
   "source": [
    "# LSTM for Time Series Prediction in PyTorch"
   ]
  },
  {
   "cell_type": "markdown",
   "id": "96133ff4-e446-491f-abef-01525faabc94",
   "metadata": {
    "tags": []
   },
   "source": [
    "> Run:    \n",
    "> Personally, running it in a dockerized, gpu/cuda-enabled pytorch/notebook environment (cf. [github/gpu-jupyter](https://github.com/iot-salzburg/gpu-jupyter))"
   ]
  },
  {
   "cell_type": "markdown",
   "id": "3ed1b511-46af-4278-bfba-e0a4de2e6352",
   "metadata": {},
   "source": [
    "- *Updated from this source [article](https://machinelearningmastery.com/lstm-for-time-series-prediction-in-pytorch/)*, with famous \"Airline\" dataset  \n",
    "- *What was **added** :*  \n",
    "    - clarifies steps / order making data stationary / normalization (a common mistake/lack of in a lot of online ressources)\n",
    "    - Make data stationary (first order diff). Not mandatory with a lstm but very common, recommended and usually improves performance\n",
    "    - More structure / pipelined : transform functions (normalize / inverse diff via cumsum etc.), steps / notes on arrays shape etc.   \n",
    "    - Normalization (minmax)\n",
    "    - Input size (loopback) directly set to 4 (vs. 1, then 4)\n",
    "    - benchmark models accuracy with and without statio. + scaling"
   ]
  },
  {
   "cell_type": "code",
   "execution_count": 1,
   "id": "debc72fd-d23c-4ba9-8b9b-774b1ecc6055",
   "metadata": {
    "tags": []
   },
   "outputs": [],
   "source": [
    "import numpy as np\n",
    "import pandas as pd\n",
    "import matplotlib.pyplot as plt\n",
    "\n",
    "from sklearn.preprocessing import MinMaxScaler\n",
    "\n",
    "import torch\n",
    "import torch.nn as nn\n",
    "import torch.optim as optim\n",
    "import torch.utils.data as data"
   ]
  },
  {
   "cell_type": "markdown",
   "id": "b21b4537-3911-4a53-9257-5ddad67dd005",
   "metadata": {
    "tags": []
   },
   "source": [
    "### Load data"
   ]
  },
  {
   "cell_type": "code",
   "execution_count": 2,
   "id": "2b6dc953-7047-430e-87ef-0690530f9b88",
   "metadata": {
    "tags": []
   },
   "outputs": [
    {
     "data": {
      "text/html": [
       "<div>\n",
       "<style scoped>\n",
       "    .dataframe tbody tr th:only-of-type {\n",
       "        vertical-align: middle;\n",
       "    }\n",
       "\n",
       "    .dataframe tbody tr th {\n",
       "        vertical-align: top;\n",
       "    }\n",
       "\n",
       "    .dataframe thead th {\n",
       "        text-align: right;\n",
       "    }\n",
       "</style>\n",
       "<table border=\"1\" class=\"dataframe\">\n",
       "  <thead>\n",
       "    <tr style=\"text-align: right;\">\n",
       "      <th></th>\n",
       "      <th>Month</th>\n",
       "      <th>Passengers</th>\n",
       "    </tr>\n",
       "  </thead>\n",
       "  <tbody>\n",
       "    <tr>\n",
       "      <th>0</th>\n",
       "      <td>1949-01</td>\n",
       "      <td>112</td>\n",
       "    </tr>\n",
       "    <tr>\n",
       "      <th>1</th>\n",
       "      <td>1949-02</td>\n",
       "      <td>118</td>\n",
       "    </tr>\n",
       "  </tbody>\n",
       "</table>\n",
       "</div>"
      ],
      "text/plain": [
       "     Month  Passengers\n",
       "0  1949-01         112\n",
       "1  1949-02         118"
      ]
     },
     "execution_count": 2,
     "metadata": {},
     "output_type": "execute_result"
    }
   ],
   "source": [
    "df = pd.read_csv('airline-passengers.csv')\n",
    "df.head(2)"
   ]
  },
  {
   "cell_type": "markdown",
   "id": "2eace0e8-c3aa-4603-937d-381d4b816d51",
   "metadata": {
    "tags": []
   },
   "source": [
    "Drop index (year-month) and keep dependent variable as a Series of float"
   ]
  },
  {
   "cell_type": "code",
   "execution_count": 3,
   "id": "c37d96ef-a5b6-415b-9a4a-93b8f456908b",
   "metadata": {
    "tags": []
   },
   "outputs": [
    {
     "data": {
      "text/plain": [
       "array([[112.],\n",
       "       [118.],\n",
       "       [132.]], dtype=float32)"
      ]
     },
     "execution_count": 3,
     "metadata": {},
     "output_type": "execute_result"
    }
   ],
   "source": [
    "#for a 2d array, would be like below, but for easier transformations etc, we chose 1D array format\n",
    "ts2 = df[[\"Passengers\"]].values.astype('float32')\n",
    "ts2[0:3]"
   ]
  },
  {
   "cell_type": "code",
   "execution_count": 4,
   "id": "c0cb7235-8d96-42b5-8825-d9ac28a80319",
   "metadata": {
    "tags": []
   },
   "outputs": [
    {
     "data": {
      "text/plain": [
       "(144, 1)"
      ]
     },
     "execution_count": 4,
     "metadata": {},
     "output_type": "execute_result"
    }
   ],
   "source": [
    "ts2.shape"
   ]
  },
  {
   "cell_type": "code",
   "execution_count": 5,
   "id": "30ad8a7a-90c7-495c-84cd-df8b505c9f67",
   "metadata": {
    "tags": []
   },
   "outputs": [
    {
     "data": {
      "text/plain": [
       "array([112., 118., 132.], dtype=float32)"
      ]
     },
     "execution_count": 5,
     "metadata": {},
     "output_type": "execute_result"
    }
   ],
   "source": [
    "# for 1d array\n",
    "ts = df[\"Passengers\"].values.astype('float32')\n",
    "ts[0:3]"
   ]
  },
  {
   "cell_type": "code",
   "execution_count": 6,
   "id": "86888365-bb08-4a6f-9f3c-0f8e330833d2",
   "metadata": {
    "tags": []
   },
   "outputs": [
    {
     "data": {
      "text/plain": [
       "(144,)"
      ]
     },
     "execution_count": 6,
     "metadata": {},
     "output_type": "execute_result"
    }
   ],
   "source": [
    "ts.shape"
   ]
  },
  {
   "cell_type": "code",
   "execution_count": 7,
   "id": "cb8e5d5b-0db3-4a10-9fd3-547430948247",
   "metadata": {
    "tags": []
   },
   "outputs": [
    {
     "data": {
      "text/plain": [
       "[<matplotlib.lines.Line2D at 0x7faf05cac040>]"
      ]
     },
     "execution_count": 7,
     "metadata": {},
     "output_type": "execute_result"
    },
    {
     "data": {
      "image/png": "[encoded data removed]",
      "text/plain": [
       "<Figure size 640x480 with 1 Axes>"
      ]
     },
     "metadata": {},
     "output_type": "display_data"
    }
   ],
   "source": [
    "plt.plot(ts)"
   ]
  },
  {
   "cell_type": "markdown",
   "id": "e0eadd95-5f49-4fa1-accc-ff75d866c935",
   "metadata": {
    "tags": []
   },
   "source": [
    "### Steps overview. Order matters"
   ]
  },
  {
   "cell_type": "markdown",
   "id": "4c6dde23-d717-4112-8374-29bc24e9fe50",
   "metadata": {
    "tags": []
   },
   "source": [
    "- 1. check if stationary / make stationary (e.g first order or other method). Ok to be before train/test split\n",
    "- 2. train - test split, **before** applying scaling (normalization), to avoid information leakage\n",
    "- 3. apply normalization, minmax is recommended for lstm / time series prediction. Fit on train test, transform train / test sets\n",
    "- 4. define how you want the nn to predict : define the look back windows / input width = how much data allowed to look at when make prediction\n",
    "- 5. create dataset : loop back + tensor shape to be compatible with Pytorch / LSTM\n",
    "- 6. create model as a class, or function\n",
    "- 7. train model & eval : loss function MSE (because regression), minimized by Adam optimizer."
   ]
  },
  {
   "cell_type": "markdown",
   "id": "01f9dd79-4fbb-46a8-bd78-4f57eaf70289",
   "metadata": {},
   "source": [
    "### Train test split"
   ]
  },
  {
   "cell_type": "code",
   "execution_count": 8,
   "id": "9211d276-7143-4b85-93fa-296e607c8b61",
   "metadata": {
    "tags": []
   },
   "outputs": [],
   "source": [
    "# input/output 1D array time series (ts)\n",
    "train_size = int(len(ts) * 0.67)\n",
    "test_size = len(ts) - train_size\n",
    "train, test = ts[:train_size], ts[train_size:]"
   ]
  },
  {
   "cell_type": "markdown",
   "id": "b4fb4aad-19d0-4aef-ae55-f7b2827cedd8",
   "metadata": {},
   "source": [
    "### Preprocessing / post-processing (make/revert stationary, normalize)"
   ]
  },
  {
   "cell_type": "markdown",
   "id": "bb2faca1-806b-420d-912c-56d3bc9953ec",
   "metadata": {},
   "source": [
    "From plot, data clearly strong, linear trend, not stationary at all -> we make data stationary, using built-in diff method in numpy (first order diff). We will also make sure to save first value to be able to revert the diff.  "
   ]
  },
  {
   "cell_type": "markdown",
   "id": "87009e03-7cb8-4551-866b-59d438b7b55d",
   "metadata": {},
   "source": [
    "**Preprocessing / post-processing functions:**"
   ]
  },
  {
   "cell_type": "markdown",
   "id": "2824e3f8-23f6-4d16-92d8-9fc5d5a2aba9",
   "metadata": {},
   "source": [
    "Note on input/output data shape \n",
    "We're using 1D array with 1 feature as input/output of our transformations steps for convenience/consistency  \n",
    "When needed, we reshape data e.g. minmax scaler from sklearn need 2D array as input. But we keep output as 1D.  \n",
    "Later on (LSTM prep), this will change (2D/3D)"
   ]
  },
  {
   "cell_type": "code",
   "execution_count": 9,
   "id": "b6fe5f23-1379-418f-a563-b6fd3f576d36",
   "metadata": {
    "tags": []
   },
   "outputs": [],
   "source": [
    "# Dave first value (\"offset\") for later easy un-differenciating with cumsum + offset\n",
    "def get_offset(time_series: np.array) -> float:\n",
    "    \"\"\"\n",
    "    Save offset, for later reverse differenciating\n",
    "    Notes i/o:\n",
    "    Input 1d array time series\n",
    "    \"\"\"\n",
    "    return time_series[0]\n",
    "\n",
    "# Differentiate (here first order)\n",
    "def make_stationary(time_series: np.array) -> np.array:\n",
    "    \"\"\"\n",
    "    Make Time Series stationary (remove trend), using first order difference\n",
    "    Not mandatory with a lstm but very common, recommended and usually improves performance\n",
    "    Notes i/o:\n",
    "    - 1d array time series\n",
    "    - Apply on whole dataset, or after train-test, should not matter that much cause we're only using previous value.\n",
    "    - source : https://datascience.stackexchange.com/questions/96876/applying-differencing-on-a-time-series-before-or-after-train-and-test-split\n",
    "    \n",
    "    \"\"\"\n",
    "    ts_stationary = np.diff(time_series)\n",
    "    return ts_stationary\n",
    "\n",
    "# func to revert differentiating; with input \"offset\"\n",
    "def revert_differenciating(time_series: np.array, offset: float) -> np.array:\n",
    "    \"\"\"Revert first order differenciating, using saved offset\"\"\"\n",
    "    ts_undiff = np.cumsum(time_series)\n",
    "    ts_undiff = ts_undiff + offset\n",
    "    # add back original first value\n",
    "    ts_undiff = np.insert(ts_undiff, 0, offset)\n",
    "    return ts_undiff\n",
    "\n",
    "# scale data, recommended for LSTM is minmax,\n",
    "# but for time series if strong trend (up or down) might not be the best\n",
    "# because future data max/low might being out of bound ; domain knowledge can help too.\n",
    "def normalize(time_series: np.array) -> np.array:\n",
    "    \"\"\"\n",
    "    Apply min max scaler, fit on train\n",
    "    Reminder : fit on train set only, then transform both train and test\n",
    "    Input is 1D array\n",
    "    \"\"\"\n",
    "    scaler = MinMaxScaler(feature_range=(0, 1))\n",
    "    # test.reshape(-1,1) : input array must be reshape prior norm.\n",
    "    scaler_min_max = scaler.fit(time_series.reshape(-1,1))\n",
    "    ts_normalized = scaler_min_max.transform(time_series.reshape(-1,1))\n",
    "    # back to 1D\n",
    "    ts_normalized_1D = ts_normalized.flatten()\n",
    "    return scaler_min_max, ts_normalized_1D\n",
    "\n",
    "def inverse_normalize(scaler, time_series: np.array) -> np.array:\n",
    "    \"\"\"Reverse min max scaler. Input is 1D array\"\"\"\n",
    "    time_series_inverse = scaler.inverse_transform(time_series.reshape(-1, 1))\n",
    "    time_series_inverse_1D = time_series_inverse.flatten()\n",
    "    return time_series_inverse_1D\n",
    "\n",
    "def to_2d(array: np.array) -> np.array:\n",
    "    \"\"\"Convenience function for code transparency when we convert 1D array to 2D\"\"\"\n",
    "    array2 = array.reshape(-1,1)\n",
    "    return array2\n"
   ]
  },
  {
   "cell_type": "markdown",
   "id": "58cc9414-e076-4697-81c1-8388cdd959e3",
   "metadata": {
    "tags": []
   },
   "source": [
    "### Optional : test & viz for transfo. (station., scaling) - inverse transform  / data distribution"
   ]
  },
  {
   "cell_type": "markdown",
   "id": "8817a6e7-44e7-4907-a7be-4eede135d869",
   "metadata": {
    "jp-MarkdownHeadingCollapsed": true,
    "tags": []
   },
   "source": [
    "#### Make stationary / revert differenciating"
   ]
  },
  {
   "cell_type": "code",
   "execution_count": 10,
   "id": "0e422ea8-1270-4b1b-9af9-2c6aa48cc6b8",
   "metadata": {
    "tags": []
   },
   "outputs": [
    {
     "data": {
      "text/plain": [
       "112.0"
      ]
     },
     "execution_count": 10,
     "metadata": {},
     "output_type": "execute_result"
    }
   ],
   "source": [
    "offset = get_offset(ts)\n",
    "offset"
   ]
  },
  {
   "cell_type": "code",
   "execution_count": 11,
   "id": "90bfaf18-167b-4ce9-929f-a3c85cd352d9",
   "metadata": {
    "tags": []
   },
   "outputs": [
    {
     "data": {
      "text/plain": [
       "array([112., 118., 132., 129., 121., 135., 148., 148., 136., 119., 104.,\n",
       "       118., 115., 126., 141., 135., 125., 149., 170., 170., 158., 133.,\n",
       "       114., 140., 145., 150., 178., 163., 172., 178., 199., 199., 184.,\n",
       "       162., 146., 166., 171., 180., 193., 181., 183., 218., 230., 242.,\n",
       "       209., 191., 172., 194., 196., 196., 236., 235., 229., 243., 264.,\n",
       "       272., 237., 211., 180., 201., 204., 188., 235., 227., 234., 264.,\n",
       "       302., 293., 259., 229., 203., 229., 242., 233., 267., 269., 270.,\n",
       "       315., 364., 347., 312., 274., 237., 278., 284., 277., 317., 313.,\n",
       "       318., 374., 413., 405., 355., 306., 271., 306., 315., 301., 356.,\n",
       "       348., 355., 422., 465., 467., 404., 347., 305., 336., 340., 318.,\n",
       "       362., 348., 363., 435., 491., 505., 404., 359., 310., 337., 360.,\n",
       "       342., 406., 396., 420., 472., 548., 559., 463., 407., 362., 405.,\n",
       "       417., 391., 419., 461., 472., 535., 622., 606., 508., 461., 390.,\n",
       "       432.], dtype=float32)"
      ]
     },
     "execution_count": 11,
     "metadata": {},
     "output_type": "execute_result"
    }
   ],
   "source": [
    "ts"
   ]
  },
  {
   "cell_type": "code",
   "execution_count": 12,
   "id": "b78170ca-d083-46ff-ad48-e20d3b1ecf3a",
   "metadata": {
    "tags": []
   },
   "outputs": [
    {
     "data": {
      "text/plain": [
       "(144,)"
      ]
     },
     "execution_count": 12,
     "metadata": {},
     "output_type": "execute_result"
    }
   ],
   "source": [
    "ts.shape"
   ]
  },
  {
   "cell_type": "code",
   "execution_count": 13,
   "id": "c2eb24c8-b5fd-4998-bae5-6d5934124448",
   "metadata": {
    "tags": []
   },
   "outputs": [
    {
     "data": {
      "text/plain": [
       "array([  6.,  14.,  -3.,  -8.,  14.,  13.,   0., -12., -17., -15.],\n",
       "      dtype=float32)"
      ]
     },
     "execution_count": 13,
     "metadata": {},
     "output_type": "execute_result"
    }
   ],
   "source": [
    "ts_stationary = make_stationary(ts)\n",
    "ts_stationary[0:10]"
   ]
  },
  {
   "cell_type": "code",
   "execution_count": 14,
   "id": "b4b5a344-2336-4845-8403-e466413094f9",
   "metadata": {
    "tags": []
   },
   "outputs": [
    {
     "data": {
      "text/plain": [
       "(143,)"
      ]
     },
     "execution_count": 14,
     "metadata": {},
     "output_type": "execute_result"
    }
   ],
   "source": [
    "ts_stationary.shape"
   ]
  },
  {
   "cell_type": "code",
   "execution_count": 15,
   "id": "7511b27f-44c8-4976-8dfc-327b74381d7e",
   "metadata": {
    "tags": []
   },
   "outputs": [
    {
     "data": {
      "text/plain": [
       "[<matplotlib.lines.Line2D at 0x7faefdbaa9b0>]"
      ]
     },
     "execution_count": 15,
     "metadata": {},
     "output_type": "execute_result"
    },
    {
     "data": {
      "image/png": "[encoded data removed]",
      "text/plain": [
       "<Figure size 640x480 with 1 Axes>"
      ]
     },
     "metadata": {},
     "output_type": "display_data"
    }
   ],
   "source": [
    "plt.plot(ts_stationary)"
   ]
  },
  {
   "cell_type": "code",
   "execution_count": 16,
   "id": "bd70a2b6-1af8-4bdd-98e1-aec1a171ee2d",
   "metadata": {
    "tags": []
   },
   "outputs": [
    {
     "data": {
      "text/plain": [
       "array([112., 118., 132., 129., 121., 135., 148., 148., 136., 119.],\n",
       "      dtype=float32)"
      ]
     },
     "execution_count": 16,
     "metadata": {},
     "output_type": "execute_result"
    }
   ],
   "source": [
    "ts_undiff = revert_differenciating(ts_stationary, offset)\n",
    "ts_undiff[0:10]"
   ]
  },
  {
   "cell_type": "code",
   "execution_count": 17,
   "id": "91cb616b-5b63-4e82-8d4e-3a3835ac861e",
   "metadata": {
    "tags": []
   },
   "outputs": [
    {
     "data": {
      "text/plain": [
       "(144,)"
      ]
     },
     "execution_count": 17,
     "metadata": {},
     "output_type": "execute_result"
    }
   ],
   "source": [
    "ts_undiff.shape"
   ]
  },
  {
   "cell_type": "markdown",
   "id": "952ebb8f-92d5-47b3-97a1-bb306865636e",
   "metadata": {
    "jp-MarkdownHeadingCollapsed": true,
    "tags": []
   },
   "source": [
    "#### Normalize / inverse normalize"
   ]
  },
  {
   "cell_type": "code",
   "execution_count": 18,
   "id": "86cecef7-ea0f-4408-8821-cb4480d78f52",
   "metadata": {
    "tags": []
   },
   "outputs": [
    {
     "data": {
      "image/png": "[encoded data removed]",
      "text/plain": [
       "<Figure size 640x480 with 1 Axes>"
      ]
     },
     "metadata": {},
     "output_type": "display_data"
    }
   ],
   "source": [
    "# initial shape - just check data distribution shape (gaussian or not)\n",
    "hist = plt.hist(ts, bins=50)"
   ]
  },
  {
   "cell_type": "code",
   "execution_count": 19,
   "id": "0ceb8aef-492c-4ae5-9b9d-a425e68bbe5b",
   "metadata": {
    "tags": []
   },
   "outputs": [
    {
     "data": {
      "image/png": "[encoded data removed]",
      "text/plain": [
       "<Figure size 640x480 with 1 Axes>"
      ]
     },
     "metadata": {},
     "output_type": "display_data"
    }
   ],
   "source": [
    "_ = plt.hist(ts_stationary, bins=50)"
   ]
  },
  {
   "cell_type": "markdown",
   "id": "f7a8a801-4f38-44d7-afa0-586e50998f46",
   "metadata": {},
   "source": [
    "Data **not** made stationary prior :"
   ]
  },
  {
   "cell_type": "code",
   "execution_count": 20,
   "id": "09aeaffb-1f48-48cf-8808-7c225106518c",
   "metadata": {
    "tags": []
   },
   "outputs": [
    {
     "name": "stdout",
     "output_type": "stream",
     "text": [
      "[0.01544401 0.02702703 0.05405405 0.04826255 0.03281853 0.05984557\n",
      " 0.08494207 0.08494207 0.06177607 0.02895753]\n",
      "1\n"
     ]
    }
   ],
   "source": [
    "scaler, ts_normalized = normalize(ts)\n",
    "print(ts_normalized[0:10])\n",
    "print(ts_normalized.ndim)"
   ]
  },
  {
   "cell_type": "code",
   "execution_count": 21,
   "id": "7df2ab6a-2895-4648-a757-48d9a0e5bb4d",
   "metadata": {
    "tags": []
   },
   "outputs": [
    {
     "data": {
      "image/png": "[encoded data removed]",
      "text/plain": [
       "<Figure size 640x480 with 1 Axes>"
      ]
     },
     "metadata": {},
     "output_type": "display_data"
    }
   ],
   "source": [
    "_ = plt.hist(ts_normalized, bins=50)"
   ]
  },
  {
   "cell_type": "code",
   "execution_count": 22,
   "id": "44728937-bf8d-4f43-887b-d93677a34d8a",
   "metadata": {
    "tags": []
   },
   "outputs": [
    {
     "name": "stdout",
     "output_type": "stream",
     "text": [
      "[112. 118. 132. 129. 121. 135. 148. 148. 136. 119.]\n",
      "1\n"
     ]
    }
   ],
   "source": [
    "time_series_inverse = inverse_normalize(scaler, ts_normalized)\n",
    "print(time_series_inverse[0:10])\n",
    "print(time_series_inverse.ndim)"
   ]
  },
  {
   "cell_type": "markdown",
   "id": "7c167ed1-1ba4-4cd2-91b6-6410918c40d4",
   "metadata": {
    "tags": []
   },
   "source": [
    "Data made **stationary** prior :"
   ]
  },
  {
   "cell_type": "code",
   "execution_count": 23,
   "id": "94349601-82eb-4b66-870a-51a5995844fe",
   "metadata": {
    "tags": []
   },
   "outputs": [
    {
     "name": "stdout",
     "output_type": "stream",
     "text": [
      "[0.5691489  0.6117021  0.52127653 0.49468082 0.6117021  0.60638297\n",
      " 0.537234   0.47340423 0.4468085  0.45744678]\n",
      "1\n"
     ]
    }
   ],
   "source": [
    "scaler, ts_normalized2 = normalize(ts_stationary)\n",
    "print(ts_normalized2[0:10])\n",
    "print(ts_normalized2.ndim)"
   ]
  },
  {
   "cell_type": "code",
   "execution_count": 24,
   "id": "3404a9a3-e47e-49e3-9db4-ee32b8695836",
   "metadata": {
    "tags": []
   },
   "outputs": [
    {
     "data": {
      "image/png": "[encoded data removed]",
      "text/plain": [
       "<Figure size 640x480 with 1 Axes>"
      ]
     },
     "metadata": {},
     "output_type": "display_data"
    }
   ],
   "source": [
    "_ = plt.hist(ts_normalized2, bins=50)"
   ]
  },
  {
   "cell_type": "markdown",
   "id": "d0ea6220-45f4-41bc-ab46-b9721cf4eb04",
   "metadata": {},
   "source": [
    "## LTSM Pytorch modeling"
   ]
  },
  {
   "cell_type": "markdown",
   "id": "155abb18-2ec8-4da2-959b-3c45b393cd44",
   "metadata": {
    "tags": []
   },
   "source": [
    "### Reshape dataset"
   ]
  },
  {
   "cell_type": "markdown",
   "id": "c29eadbe-5644-454f-b46b-e7edad1f54ca",
   "metadata": {},
   "source": [
    "- Here, Univariate : one feature (number of passengers). We could have added / built others from date.\n",
    "- Several ways to prepare dataset for lstm/time series : \n",
    "    - e.g. multiple inputs -> multiple outputs vs. multiple inputs -> single output\n",
    "    - hopping/overlapping windows, step size of the sliding window... (we're using 1 below)\n",
    "- Convert a time series into a tensor of dimensions (window sample, time steps, features)  \n",
    "- Below : multiple (4) inputs -> multiple outputs/targets (4)"
   ]
  },
  {
   "cell_type": "code",
   "execution_count": 25,
   "id": "20f140bf-c1b5-45b8-a066-06cc95aeab97",
   "metadata": {
    "tags": []
   },
   "outputs": [],
   "source": [
    "def create_dataset(dataset, loopback):\n",
    "    \"\"\"\n",
    "    Transform a time series into a prediction dataset\n",
    "    Args:\n",
    "        dataset: A numpy array of time series, first dimension is the time steps\n",
    "        lookback: Size of window for prediction\n",
    "    Output: Pytorch 3D tensors\n",
    "    \"\"\"\n",
    "    X, y = [], []\n",
    "    for i in range(len(dataset)-loopback):\n",
    "        feature = dataset[i:i+loopback]\n",
    "        target = dataset[i+1:i+loopback+1]\n",
    "        X.append(feature)\n",
    "        y.append(target)\n",
    "    # Optional but prevent warning performance message :\n",
    "    # Convert the lists to numpy arrays and then to Pytorch tensors.\n",
    "    X = torch.tensor(np.array(X))\n",
    "    y = torch.tensor(np.array(y))\n",
    "    return X, y"
   ]
  },
  {
   "cell_type": "markdown",
   "id": "ecbbfabc-a695-4cf5-838e-2de6267a9031",
   "metadata": {
    "jp-MarkdownHeadingCollapsed": true,
    "tags": []
   },
   "source": [
    "#### Optional : Test create dataset / reshape array"
   ]
  },
  {
   "cell_type": "code",
   "execution_count": 26,
   "id": "e220b0d5-5978-43ac-88ed-f01e5d890274",
   "metadata": {
    "tags": []
   },
   "outputs": [
    {
     "data": {
      "text/plain": [
       "array([[112.],\n",
       "       [118.],\n",
       "       [132.]], dtype=float32)"
      ]
     },
     "execution_count": 26,
     "metadata": {},
     "output_type": "execute_result"
    }
   ],
   "source": [
    "# input must be a 2D array\n",
    "train, test = to_2d(train), to_2d(test)\n",
    "train[0:3]"
   ]
  },
  {
   "cell_type": "code",
   "execution_count": 27,
   "id": "55a82007-886c-40bb-adf6-aec9477ccfe7",
   "metadata": {
    "tags": []
   },
   "outputs": [
    {
     "data": {
      "text/plain": [
       "(96, 1)"
      ]
     },
     "execution_count": 27,
     "metadata": {},
     "output_type": "execute_result"
    }
   ],
   "source": [
    "train.shape"
   ]
  },
  {
   "cell_type": "code",
   "execution_count": 28,
   "id": "bbab3272-9ebb-4631-ad9a-55ee83ebd383",
   "metadata": {
    "tags": []
   },
   "outputs": [
    {
     "data": {
      "text/plain": [
       "2"
      ]
     },
     "execution_count": 28,
     "metadata": {},
     "output_type": "execute_result"
    }
   ],
   "source": [
    "train.ndim"
   ]
  },
  {
   "cell_type": "code",
   "execution_count": 29,
   "id": "c52b192a-9f50-4cc2-a45a-a845b10ee763",
   "metadata": {
    "tags": []
   },
   "outputs": [],
   "source": [
    "loopback = 4\n",
    "dataset_X_train, dataset_y_train = create_dataset(train, loopback)\n",
    "dataset_X_test, dataset_y_test = create_dataset(test, loopback)"
   ]
  },
  {
   "cell_type": "code",
   "execution_count": 30,
   "id": "6b9d0e4e-1703-4418-ac9a-cf3d755ab772",
   "metadata": {
    "tags": []
   },
   "outputs": [
    {
     "data": {
      "text/plain": [
       "array([[112.],\n",
       "       [118.],\n",
       "       [132.],\n",
       "       [129.],\n",
       "       [121.],\n",
       "       [135.]], dtype=float32)"
      ]
     },
     "execution_count": 30,
     "metadata": {},
     "output_type": "execute_result"
    }
   ],
   "source": [
    "train[0:6]"
   ]
  },
  {
   "cell_type": "code",
   "execution_count": 31,
   "id": "f125712b-1846-4c50-9a11-f11ba137fd1b",
   "metadata": {
    "tags": []
   },
   "outputs": [
    {
     "data": {
      "text/plain": [
       "tensor([[[112.],\n",
       "         [118.],\n",
       "         [132.],\n",
       "         [129.]],\n",
       "\n",
       "        [[118.],\n",
       "         [132.],\n",
       "         [129.],\n",
       "         [121.]]])"
      ]
     },
     "execution_count": 31,
     "metadata": {},
     "output_type": "execute_result"
    }
   ],
   "source": [
    "dataset_X_train[0:2]"
   ]
  },
  {
   "cell_type": "code",
   "execution_count": 32,
   "id": "f3d87e13-ebc4-4fc5-bcc4-a56510e6efe0",
   "metadata": {
    "tags": []
   },
   "outputs": [
    {
     "data": {
      "text/plain": [
       "tensor([[[118.],\n",
       "         [132.],\n",
       "         [129.],\n",
       "         [121.]],\n",
       "\n",
       "        [[132.],\n",
       "         [129.],\n",
       "         [121.],\n",
       "         [135.]]])"
      ]
     },
     "execution_count": 32,
     "metadata": {},
     "output_type": "execute_result"
    }
   ],
   "source": [
    "dataset_y_train[0:2]"
   ]
  },
  {
   "cell_type": "code",
   "execution_count": 33,
   "id": "783808b7-c38f-4c09-88e4-3964a1e439e5",
   "metadata": {
    "tags": []
   },
   "outputs": [
    {
     "name": "stdout",
     "output_type": "stream",
     "text": [
      "torch.Size([92, 4, 1]) torch.Size([92, 4, 1])\n"
     ]
    }
   ],
   "source": [
    "print(dataset_X_train.shape, dataset_y_train.shape)"
   ]
  },
  {
   "cell_type": "code",
   "execution_count": 34,
   "id": "0fc066e3-30f1-402a-802e-bebbb9d759a5",
   "metadata": {
    "tags": []
   },
   "outputs": [
    {
     "name": "stdout",
     "output_type": "stream",
     "text": [
      "torch.Size([44, 4, 1]) torch.Size([44, 4, 1])\n"
     ]
    }
   ],
   "source": [
    "print(dataset_X_test.shape, dataset_y_test.shape)"
   ]
  },
  {
   "cell_type": "markdown",
   "id": "aa92a2cb-44b8-4c0a-91ad-d2befcfea3e9",
   "metadata": {},
   "source": [
    "### Create LSTM model"
   ]
  },
  {
   "cell_type": "markdown",
   "id": "57dff151-4e9a-46b6-85bb-331ff1c49932",
   "metadata": {},
   "source": [
    "Refer to [source](https://machinelearningmastery.com/lstm-for-time-series-prediction-in-pytorch/)"
   ]
  },
  {
   "cell_type": "code",
   "execution_count": 35,
   "id": "4ca4f7c4-0d06-429e-a85e-822965e72c46",
   "metadata": {
    "tags": []
   },
   "outputs": [],
   "source": [
    "class AirModel(nn.Module):\n",
    "    def __init__(self):\n",
    "        super().__init__()\n",
    "        self.lstm = nn.LSTM(input_size=1, hidden_size=50, num_layers=1, batch_first=True)\n",
    "        self.linear = nn.Linear(50, 1)\n",
    "    def forward(self, x):\n",
    "        x, _ = self.lstm(x)\n",
    "        x = self.linear(x)\n",
    "        return x"
   ]
  },
  {
   "cell_type": "markdown",
   "id": "707e7f88-4249-4b53-a9a5-f9c27cc60409",
   "metadata": {},
   "source": [
    "### Train Model, Part 1 : vanilla, no prior ts made stationarity and scaling"
   ]
  },
  {
   "cell_type": "markdown",
   "id": "ef5ea414-0fcc-42cc-a53a-999acda0ca25",
   "metadata": {},
   "source": [
    "- regression problem -> mse (or rmse) as loss function\n",
    "- batch for training provided by DataLoader (torch.utils.data)\n",
    "- model performance is evaluated once per 100 epochs"
   ]
  },
  {
   "cell_type": "code",
   "execution_count": 36,
   "id": "64908f94-a928-4cba-8737-97c218dc4aef",
   "metadata": {
    "tags": []
   },
   "outputs": [],
   "source": [
    "# create dataset with correct shape\n",
    "\n",
    "lookback = 4\n",
    "X_train, y_train = create_dataset(train, lookback)\n",
    "X_test, y_test = create_dataset(test, lookback)"
   ]
  },
  {
   "cell_type": "code",
   "execution_count": 37,
   "id": "da2162f2-583d-48d5-a11d-e965b2a6d740",
   "metadata": {
    "tags": []
   },
   "outputs": [
    {
     "name": "stdout",
     "output_type": "stream",
     "text": [
      "Epoch 0: train RMSE 225.7072, test RMSE 424.9349\n",
      "Epoch 100: train RMSE 177.7393, test RMSE 374.6175\n",
      "Epoch 200: train RMSE 141.7304, test RMSE 335.2422\n",
      "Epoch 300: train RMSE 112.2549, test RMSE 300.3336\n",
      "Epoch 400: train RMSE 90.3609, test RMSE 270.0653\n",
      "Epoch 500: train RMSE 68.7152, test RMSE 237.5167\n",
      "Epoch 600: train RMSE 53.7930, test RMSE 209.1705\n",
      "Epoch 700: train RMSE 43.3034, test RMSE 185.1099\n",
      "Epoch 800: train RMSE 35.9472, test RMSE 164.1294\n",
      "Epoch 900: train RMSE 30.8778, test RMSE 145.9508\n",
      "Epoch 1000: train RMSE 27.4294, test RMSE 130.7180\n",
      "Epoch 1100: train RMSE 25.0743, test RMSE 118.4459\n",
      "Epoch 1200: train RMSE 23.4386, test RMSE 108.7427\n",
      "Epoch 1300: train RMSE 22.2793, test RMSE 100.5727\n",
      "Epoch 1400: train RMSE 21.8454, test RMSE 94.1659\n",
      "Epoch 1500: train RMSE 21.4879, test RMSE 89.4007\n",
      "Epoch 1600: train RMSE 20.5478, test RMSE 85.3783\n",
      "Epoch 1700: train RMSE 20.1803, test RMSE 82.8827\n",
      "Epoch 1800: train RMSE 20.3148, test RMSE 81.2306\n",
      "Epoch 1900: train RMSE 19.4790, test RMSE 78.9704\n"
     ]
    }
   ],
   "source": [
    "model = AirModel()\n",
    "optimizer = optim.Adam(model.parameters())\n",
    "loss_fn = nn.MSELoss()\n",
    "loader = data.DataLoader(data.TensorDataset(X_train, y_train), shuffle=True, batch_size=8)\n",
    "\n",
    "n_epochs = 2000\n",
    "for epoch in range(n_epochs):\n",
    "    model.train()\n",
    "    for X_batch, y_batch in loader:\n",
    "        y_pred = model(X_batch)\n",
    "        loss = loss_fn(y_pred, y_batch)\n",
    "        optimizer.zero_grad()\n",
    "        loss.backward()\n",
    "        optimizer.step()\n",
    "    # Validation\n",
    "    if epoch % 100 != 0:\n",
    "        continue\n",
    "    model.eval()\n",
    "    with torch.no_grad():\n",
    "        y_pred = model(X_train)\n",
    "        train_rmse = np.sqrt(loss_fn(y_pred, y_train))\n",
    "        y_pred = model(X_test)\n",
    "        test_rmse = np.sqrt(loss_fn(y_pred, y_test))\n",
    "    print(\"Epoch %d: train RMSE %.4f, test RMSE %.4f\" % (epoch, train_rmse, test_rmse))"
   ]
  },
  {
   "cell_type": "markdown",
   "id": "30be9d91-24ac-4cae-9f51-f5ff7feb4c4d",
   "metadata": {
    "tags": []
   },
   "source": [
    "#### Plot the output"
   ]
  },
  {
   "cell_type": "markdown",
   "id": "d7c96bbc-4008-4580-a541-b14494a250cc",
   "metadata": {},
   "source": [
    "Take the model’s output as y_pred but extract only the data from the last time step as y_pred[:, -1, :]. This is what is plotted on the chart."
   ]
  },
  {
   "cell_type": "code",
   "execution_count": 38,
   "id": "743d11d2-109f-4bc5-ab3c-ff36b7f10f44",
   "metadata": {
    "tags": []
   },
   "outputs": [
    {
     "data": {
      "image/png": "[encoded data removed]",
      "text/plain": [
       "<Figure size 640x480 with 1 Axes>"
      ]
     },
     "metadata": {},
     "output_type": "display_data"
    }
   ],
   "source": [
    "timeseries = ts2 # 2d array input\n",
    "\n",
    "with torch.no_grad():\n",
    "    # shift train predictions for plotting\n",
    "    train_plot = np.ones_like(timeseries) * np.nan\n",
    "    y_pred = model(X_train)\n",
    "    y_pred = y_pred[:, -1, :]\n",
    "    train_plot[lookback:train_size] = model(X_train)[:, -1, :]\n",
    "    # shift test predictions for plotting\n",
    "    test_plot = np.ones_like(timeseries) * np.nan\n",
    "    test_plot[train_size+lookback:len(timeseries)] = model(X_test)[:, -1, :]\n",
    "# plot\n",
    "plt.plot(timeseries)\n",
    "plt.plot(train_plot, c='r')\n",
    "plt.plot(test_plot, c='g')\n",
    "plt.show()"
   ]
  },
  {
   "cell_type": "markdown",
   "id": "6119a4c9-4aa0-4f64-8a0e-197cb30ac762",
   "metadata": {
    "tags": []
   },
   "source": [
    "### Train Model, Part 2 : with prior data made stationarity and normalization (minmax) applied"
   ]
  },
  {
   "cell_type": "code",
   "execution_count": null,
   "id": "1b375c67-3157-460b-bca9-dc02e9b647c9",
   "metadata": {},
   "outputs": [],
   "source": []
  }
 ],
 "metadata": {
  "kernelspec": {
   "display_name": "Python 3 (ipykernel)",
   "language": "python",
   "name": "python3"
  },
  "language_info": {
   "codemirror_mode": {
    "name": "ipython",
    "version": 3
   },
   "file_extension": ".py",
   "mimetype": "text/x-python",
   "name": "python",
   "nbconvert_exporter": "python",
   "pygments_lexer": "ipython3",
   "version": "3.10.10"
  }
 },
 "nbformat": 4,
 "nbformat_minor": 5
}
